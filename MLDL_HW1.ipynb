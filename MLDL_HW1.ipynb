{
  "nbformat": 4,
  "nbformat_minor": 0,
  "metadata": {
    "colab": {
      "name": "MLDL_HW1.ipynb",
      "provenance": [],
      "collapsed_sections": [
        "g4_EpHNF4bL2"
      ],
      "toc_visible": true
    },
    "kernelspec": {
      "name": "python3",
      "display_name": "Python 3"
    }
  },
  "cells": [
    {
      "cell_type": "code",
      "metadata": {
        "id": "luhfAfUC0W98",
        "colab_type": "code",
        "colab": {}
      },
      "source": [
        "import csv\n",
        "import pandas as pd\n",
        "import numpy as np\n",
        "import nltk\n",
        "from matplotlib import pyplot as plt\n",
        "from mlxtend.plotting import plot_decision_regions\n",
        "from prettytable import PrettyTable\n",
        "import seaborn as sns\n",
        "\n",
        "from sklearn.datasets import load_wine\n",
        "from sklearn.svm import SVC\n",
        "from sklearn.neighbors import KNeighborsClassifier\n",
        "from sklearn.metrics import accuracy_score\n",
        "\n",
        "from sklearn.model_selection import train_test_split\n",
        "from sklearn.model_selection import ParameterGrid\n",
        "from sklearn.model_selection import KFold\n",
        "from sklearn.model_selection import cross_val_score"
      ],
      "execution_count": 0,
      "outputs": []
    },
    {
      "cell_type": "markdown",
      "metadata": {
        "id": "hxbgqBq1XnXL",
        "colab_type": "text"
      },
      "source": [
        "#Utilities\n"
      ]
    },
    {
      "cell_type": "code",
      "metadata": {
        "id": "Ynieqm-eXy-B",
        "colab_type": "code",
        "colab": {}
      },
      "source": [
        "def plot_2D_graph(X, y, x_label='x', y_label='y', title='title'):\n",
        "  num_classes = 3\n",
        "  fig = plt.figure(figsize=(5, 5))\n",
        "  palette = np.array(sns.color_palette(\"hls\", num_classes))\n",
        "  ax = fig.add_subplot(111)\n",
        "  for c, lab in zip(np.unique(y), y):\n",
        "    x_c = X[y == c]\n",
        "    ax.scatter(x_c[:,0], x_c[:,1], lw=0, c=[palette[c]]*len(x_c), label=lab)\n",
        "    \n",
        "  plt.xlabel(x_label)\n",
        "  plt.ylabel(y_label)\n",
        "  fig.suptitle(title)\n",
        "  #fig.savefig('fig.png')\n",
        "  return"
      ],
      "execution_count": 0,
      "outputs": []
    },
    {
      "cell_type": "code",
      "metadata": {
        "id": "gVDMStVjyyja",
        "colab_type": "code",
        "colab": {}
      },
      "source": [
        "def plot_boundaries(X, y, clf, x_label='x', y_label='y', title='title', name=0):\n",
        "  fig = plt.figure(figsize=(5, 5))\n",
        "  ax = plot_decision_regions(X, y, clf=clf)\n",
        "  plt.xlabel(x_label)\n",
        "  plt.ylabel(y_label)\n",
        "  plt.title(title)\n",
        "  handles, labels = ax.get_legend_handles_labels()\n",
        "  plt.legend(handles, ['class 0', 'class 1', 'class 2'])\n",
        "  plt.show()\n",
        "  #fig.savefig(f\"fig_{name}.png\")\n",
        "  return"
      ],
      "execution_count": 0,
      "outputs": []
    },
    {
      "cell_type": "code",
      "metadata": {
        "id": "eWkDnX3Gke0q",
        "colab_type": "code",
        "colab": {}
      },
      "source": [
        "def plot_graph_line(X, y, x_label='x', y_label='y', title='title'):\n",
        "  fig = plt.figure(figsize=(5, 5))\n",
        "  plt.plot(X,y)\n",
        "  plt.xlabel(x_label)\n",
        "  plt.ylabel(y_label)\n",
        "  plt.title(title)\n",
        "  plt.show()\n",
        "  return"
      ],
      "execution_count": 0,
      "outputs": []
    },
    {
      "cell_type": "code",
      "metadata": {
        "id": "9Mi8wrWnlnNE",
        "colab_type": "code",
        "colab": {}
      },
      "source": [
        "#find the best K\n",
        "def K_Nearest_Neghbors(X_train, X_val, y_train, y_val, X_label=\"x\", y_label=\"y\"):\n",
        "  best_clf = ''\n",
        "  best_score = 0\n",
        "  score = 0\n",
        "  scores =[]\n",
        "  K = [1, 3, 5, 7]\n",
        "  for k in K:\n",
        "    clf = KNeighborsClassifier(n_neighbors=k)\n",
        "    clf = clf.fit(X_train, y_train)\n",
        "    plot_boundaries(X_train,y_train,clf,X_label,y_label,f'K = {k}')\n",
        "\n",
        "    y_pred_val = clf.predict(X_val)\n",
        "    score = accuracy_score(y_val,y_pred_val)\n",
        "    scores.append(score)\n",
        "\n",
        "    if score>=best_score:\n",
        "      best_score = score\n",
        "      best_clf = clf\n",
        "  \n",
        "  plot_graph_line(K,scores,\"N° of Nearest Neighbors\", \"Accuracy\", \"Accuracy on Validation\")\n",
        "  return best_clf"
      ],
      "execution_count": 0,
      "outputs": []
    },
    {
      "cell_type": "code",
      "metadata": {
        "id": "GI90ii5voaF2",
        "colab_type": "code",
        "colab": {}
      },
      "source": [
        "#find the best C\n",
        "#use kernel linear \n",
        "def SVM_linear(X_train, X_val, y_train, y_val, X_label=\"x\", y_label=\"y\"):\n",
        "  best_clf = ''\n",
        "  best_score = 0\n",
        "  score = 0\n",
        "  scores =[]\n",
        "  C = [0.001, 0.01, 0.1, 1, 10, 100,1000]\n",
        "  for c in C:\n",
        "    clf = SVC(kernel= \"linear\", C=c)\n",
        "    clf = clf.fit(X_train, y_train)\n",
        "    plot_boundaries(X_train,y_train,clf, X_label, y_label, f'C = {c}', c)\n",
        "\n",
        "    y_pred_val = clf.predict(X_val)\n",
        "    score = accuracy_score(y_val,y_pred_val)\n",
        "    scores.append(score)\n",
        "\n",
        "    if score>best_score:\n",
        "      best_score = score\n",
        "      best_clf = clf\n",
        "      \n",
        "  plot_graph_line(C,scores,\"Value of C\", \"Accuracy\", \"Accuracy on Validation\")\n",
        "  return best_clf"
      ],
      "execution_count": 0,
      "outputs": []
    },
    {
      "cell_type": "code",
      "metadata": {
        "id": "9NmpCHyApmLC",
        "colab_type": "code",
        "colab": {}
      },
      "source": [
        "#find the best C\n",
        "#use RBF kernel\n",
        "def SVM_RBF(X_train, X_val, y_train, y_val, X_label=\"x\", y_label=\"y\"):\n",
        "  best_clf = ''\n",
        "  best_score = 0\n",
        "  score = 0\n",
        "  scores =[]\n",
        "  C = [0.001, 0.01, 0.1, 1, 10, 100, 1000]\n",
        "  for c in C:\n",
        "    clf = SVC(kernel= \"rbf\", C=c)\n",
        "    clf = clf.fit(X_train, y_train)\n",
        "    plot_boundaries(X_train, y_train, clf, X_label, y_label, f'C = {c}', c)\n",
        "\n",
        "    y_pred_val = clf.predict(X_val)\n",
        "    score = accuracy_score(y_val,y_pred_val)\n",
        "    scores.append(score)\n",
        "\n",
        "    if score>best_score:\n",
        "      best_score = score\n",
        "      best_clf = clf\n",
        " \n",
        "  plot_graph_line(C,scores,\"Value of C\", \"Accuracy\", \"Accuracy on Validation\")\n",
        "  return best_clf"
      ],
      "execution_count": 0,
      "outputs": []
    },
    {
      "cell_type": "code",
      "metadata": {
        "id": "OfVLsEGYrSes",
        "colab_type": "code",
        "colab": {}
      },
      "source": [
        "def SVM_RBF_gamma(X_train, X_val, y_train, y_val, X_label=\"x\", y_label=\"y\"):\n",
        "  configs ={\"kernel\":['rbf'],\n",
        "            \"C\":[0.001, 0.01, 0.1, 1, 10, 100, 1000],\n",
        "            \"gamma\":[100, 10, 1, 0.1, 1e-2, 1e-3]} \n",
        "  best_clf = ''\n",
        "  best_score = 0\n",
        "  score = 0\n",
        "  t = PrettyTable(['C\\gamma',100, 10, 1, 0.1, 1e-2, 1e-3])\n",
        "  row = []\n",
        "  C=0.001\n",
        "  row.append(C)\n",
        "  \n",
        "  for config in ParameterGrid(configs):\n",
        "    if config[\"C\"]!=C:\n",
        "      t.add_row(row)\n",
        "      row = []\n",
        "      C = config[\"C\"]\n",
        "      row.append(C)\n",
        "      \n",
        "    clf = SVC(**config)\n",
        "    clf = clf.fit(X_train, y_train)\n",
        "    y_pred_val = clf.predict(X_val)\n",
        "    score = accuracy_score(y_val,y_pred_val)\n",
        "    row.append(round(score,4)*100)\n",
        "\n",
        "    if score>best_score:\n",
        "      best_score = score\n",
        "      best_clf = clf\n",
        "  t.add_row(row)\n",
        "  print(t)\n",
        "  return best_clf"
      ],
      "execution_count": 0,
      "outputs": []
    },
    {
      "cell_type": "code",
      "metadata": {
        "id": "ge3Ju-aWuI04",
        "colab_type": "code",
        "colab": {}
      },
      "source": [
        "def SVM_KFold(X, y, X_label=\"x\", y_label=\"y\"):\n",
        "  configs ={\"kernel\":['rbf'],\n",
        "          \"C\":[0.001, 0.01, 0.1, 1, 10, 100,1000],\n",
        "          \"gamma\":[100, 10, 1, 0.1, 1e-2, 1e-3]} \n",
        "  best_clf = ''\n",
        "  best_score = 0\n",
        "  score = 0\n",
        "  t = PrettyTable(['C\\gamma',100, 10, 1, 0.1, 1e-2, 1e-3])\n",
        "  row = []\n",
        "  C=0.001\n",
        "  row.append(C)\n",
        "\n",
        "  for config in ParameterGrid(configs):\n",
        "    if config[\"C\"]!=C:\n",
        "      t.add_row(row)\n",
        "      row = []\n",
        "      C = config[\"C\"]\n",
        "      row.append(C)\n",
        "\n",
        "    clf = SVC(**config)\n",
        "    score = cross_val_score(clf, X, y, cv=5)\n",
        "    \n",
        "    score = score.mean()\n",
        "    row.append(round(score,4)*100)\n",
        "    if score>best_score:\n",
        "      best_score = score\n",
        "      best_clf = clf\n",
        "\n",
        "  t.add_row(row)\n",
        "  print(t)\n",
        "  return best_clf"
      ],
      "execution_count": 0,
      "outputs": []
    },
    {
      "cell_type": "code",
      "metadata": {
        "id": "Ia1cK3MG6Nrn",
        "colab_type": "code",
        "colab": {}
      },
      "source": [
        "def plot_feature_pairs(data,feature_names)\n",
        "  X3 = data[:, 0:2]\n",
        "  for i in range(len(feature_names)):\n",
        "    for j in range(i+1, len(feature_names)):\n",
        "      X3[:,0] = data[:, i]\n",
        "      X3[:,1] = data[:, j]\n",
        "      X1 = feature_names[i]\n",
        "      X2 = feature_names[j]\n",
        "      title = str(i)+ \" \"+str(j)\n",
        "      plot_2D_graph(X3,y, X1,X2, title)\n",
        "\n",
        "  return"
      ],
      "execution_count": 0,
      "outputs": []
    },
    {
      "cell_type": "markdown",
      "metadata": {
        "id": "3jVHN-j0Xsb9",
        "colab_type": "text"
      },
      "source": [
        "#Execution"
      ]
    },
    {
      "cell_type": "code",
      "metadata": {
        "id": "xkzJO3-N2NWk",
        "colab_type": "code",
        "colab": {}
      },
      "source": [
        "#load the dataset\n",
        "dataset = load_wine() \n",
        "data = dataset[\"data\"] #X[0] 13 valori  del vino 0\n",
        "y = dataset[\"target\"] \n",
        "feature_names = dataset[\"feature_names\"]"
      ],
      "execution_count": 0,
      "outputs": []
    },
    {
      "cell_type": "code",
      "metadata": {
        "id": "Ycg5iu-O5-fE",
        "colab_type": "code",
        "outputId": "b5957ae9-2529-4a4a-b4bc-de1fd5e3ae33",
        "colab": {
          "base_uri": "https://localhost:8080/",
          "height": 68
        }
      },
      "source": [
        "#statistics on the dataset\n",
        "n = [0,0,0]\n",
        "for i in y:\n",
        "  n[i] += 1\n",
        "print(f\"samples on class 0: {n[0]}\")\n",
        "print(f\"samples on class 1: {n[1]}\")\n",
        "print(f\"samples on class 2: {n[2]}\")\n"
      ],
      "execution_count": 0,
      "outputs": [
        {
          "output_type": "stream",
          "text": [
            "samples on class 0: 59\n",
            "samples on class 1: 71\n",
            "samples on class 2: 48\n"
          ],
          "name": "stdout"
        }
      ]
    },
    {
      "cell_type": "markdown",
      "metadata": {
        "id": "g4_EpHNF4bL2",
        "colab_type": "text"
      },
      "source": [
        "###First 2 components"
      ]
    },
    {
      "cell_type": "code",
      "metadata": {
        "id": "HWBAcQhn26Re",
        "colab_type": "code",
        "colab": {}
      },
      "source": [
        "#select the first 2 attribute\n",
        "X = data[:,0:2]\n",
        "X1 = feature_names[0]\n",
        "X2 = feature_names[1]\n",
        "plot_2D_graph(X, y, X1, X2, \"first 2 features\")"
      ],
      "execution_count": 0,
      "outputs": []
    },
    {
      "cell_type": "code",
      "metadata": {
        "id": "Nv-unijX26UD",
        "colab_type": "code",
        "colab": {}
      },
      "source": [
        " X_train_val, X_test, y_train_val, y_test = train_test_split(X, y, stratify=y, test_size=0.3, random_state=269317)\n",
        "\n",
        " X_train, X_val, y_train, y_val = train_test_split(X_train_val, y_train_val, stratify=y_train_val, test_size=0.27, random_state=269317) # 50/70 *100 = 71,43"
      ],
      "execution_count": 0,
      "outputs": []
    },
    {
      "cell_type": "code",
      "metadata": {
        "id": "hkIJfbpG6DZX",
        "colab_type": "code",
        "colab": {}
      },
      "source": [
        "#check of the partition\n",
        "n = [0,0,0]\n",
        "for i in y_train:\n",
        "  n[i] += 1\n",
        "print(\"train ser distribution:\")\n",
        "print(f\"samples on class 0: {n[0]}\")\n",
        "print(f\"samples on class 1: {n[1]}\")\n",
        "print(f\"samples on class 2: {n[2]}\")\n",
        "\n",
        "n = [0,0,0]\n",
        "for i in y_test:\n",
        "  n[i] += 1\n",
        "print(\"test set distribution:\")\n",
        "print(f\"samples on class 0: {n[0]}\")\n",
        "print(f\"samples on class 1: {n[1]}\")\n",
        "print(f\"samples on class 2: {n[2]}\")\n",
        "\n",
        "n = [0,0,0]\n",
        "for i in y_val:\n",
        "  n[i] += 1\n",
        "print(\"validation set distribution:\")\n",
        "print(f\"samples on class 0: {n[0]}\")\n",
        "print(f\"samples on class 1: {n[1]}\")\n",
        "print(f\"samples on class 2: {n[2]}\")\n"
      ],
      "execution_count": 0,
      "outputs": []
    },
    {
      "cell_type": "code",
      "metadata": {
        "id": "n85i42mz26XI",
        "colab_type": "code",
        "colab": {}
      },
      "source": [
        "#find the best K\n",
        "clf = K_Nearest_Neghbors(X_train, X_val, y_train, y_val, X1, X2)\n",
        "clf = clf.fit(X_train_val, y_train_val)\n",
        "y_pred_test = clf.predict(X_test)\n",
        "acc = accuracy_score(y_test,y_pred_test)\n",
        "print(f\"Accuracy score: {acc:.2f} %\") "
      ],
      "execution_count": 0,
      "outputs": []
    },
    {
      "cell_type": "code",
      "metadata": {
        "id": "nSdRD0N0NEyO",
        "colab_type": "code",
        "colab": {}
      },
      "source": [
        "#find the best C\n",
        "#use kernel linear \n",
        "clf = SVM_linear(X_train, X_val, y_train, y_val, X1, X2)\n",
        "clf = clf.fit(X_train_val, y_train_val)\n",
        "y_pred_test = clf.predict(X_test)\n",
        "acc = accuracy_score(y_test,y_pred_test)\n",
        "print(f\"Accuracy score: {acc:.2f} %\")"
      ],
      "execution_count": 0,
      "outputs": []
    },
    {
      "cell_type": "code",
      "metadata": {
        "id": "gts9v9fdNweO",
        "colab_type": "code",
        "colab": {}
      },
      "source": [
        "#find the best C\n",
        "#use RBF kernel\n",
        "clf = SVM_RBF(X_train, X_val, y_train, y_val,X1, X2)\n",
        "clf = clf.fit(X_train_val, y_train_val)\n",
        "y_pred_test = clf.predict(X_test)\n",
        "acc = accuracy_score(y_test,y_pred_test)\n",
        "print(f\"Accuracy score: {acc:.2f} %\")"
      ],
      "execution_count": 0,
      "outputs": []
    },
    {
      "cell_type": "code",
      "metadata": {
        "id": "0H7N-R6MOL-R",
        "colab_type": "code",
        "colab": {}
      },
      "source": [
        "#parameter grid to tune both gamma and c\n",
        "clf = SVM_RBF_gamma(X_train, X_val, y_train, y_val, X1, X2)\n",
        "clf = clf.fit(X_train_val, y_train_val)\n",
        "y_pred_test = clf.predict(X_test)\n",
        "acc = accuracy_score(y_test,y_pred_test)\n",
        "plot_boundaries(X_train,y_train,clf, X1, X2,'')\n",
        "print(clf)\n",
        "print(f\"Accuracy score: {acc:.2f} %\")"
      ],
      "execution_count": 0,
      "outputs": []
    },
    {
      "cell_type": "code",
      "metadata": {
        "id": "j3_SjxaWe3M3",
        "colab_type": "code",
        "colab": {}
      },
      "source": [
        "#cross validation for RBF kernel\n",
        "clf = SVM_KFold(X_train_val, y_train_val, X1, X2)\n",
        "clf = clf.fit(X_train_val, y_train_val)\n",
        "y_pred_test = clf.predict(X_test)\n",
        "acc = accuracy_score(y_test,y_pred_test)\n",
        "plot_boundaries(X_train_val,y_train_val,clf, X1, X2,'')\n",
        "print(clf)\n",
        "print(f\"Accuracy score: {acc:.2f} %\")"
      ],
      "execution_count": 0,
      "outputs": []
    },
    {
      "cell_type": "markdown",
      "metadata": {
        "id": "WrV3g_h143DZ",
        "colab_type": "text"
      },
      "source": [
        "### feature 5 and 9"
      ]
    },
    {
      "cell_type": "code",
      "metadata": {
        "id": "jJlBd2Dk42Qa",
        "colab_type": "code",
        "colab": {}
      },
      "source": [
        "#select 5 and 9 attribute\n",
        "X[:,0] = data[:,5]\n",
        "X[:,1] = data[:,9]\n",
        "X1 = feature_names[5]\n",
        "X2 = feature_names[9]\n",
        "plot_2D_graph(X,y, X1,X2, \"\")"
      ],
      "execution_count": 0,
      "outputs": []
    },
    {
      "cell_type": "code",
      "metadata": {
        "id": "Lmv1X19p5JMd",
        "colab_type": "code",
        "colab": {}
      },
      "source": [
        "X_train_val, X_test, y_train_val, y_test = train_test_split(X, y, stratify=y, test_size=0.3, random_state=269317)\n",
        "\n",
        "X_train, X_val, y_train, y_val = train_test_split(X_train_val, y_train_val, stratify=y_train_val, test_size=0.3, random_state=269317) # 50/70 *100 = 71,43"
      ],
      "execution_count": 0,
      "outputs": []
    },
    {
      "cell_type": "code",
      "metadata": {
        "id": "uiQSFFZ75MjB",
        "colab_type": "code",
        "colab": {}
      },
      "source": [
        "#find the best K\n",
        "clf = K_Nearest_Neghbors(X_train, X_val, y_train, y_val, X1, X2)\n",
        "clf = clf.fit(X_train_val, y_train_val)\n",
        "y_pred_test = clf.predict(X_test)\n",
        "acc = accuracy_score(y_test,y_pred_test)\n",
        "print(f\"Accuracy score: {acc:.2f} %\") \n",
        "plot_boundaries(X_train,y_train,clf, X1, X2,'K = 3')"
      ],
      "execution_count": 0,
      "outputs": []
    },
    {
      "cell_type": "code",
      "metadata": {
        "id": "t-1KSdhC5Mqs",
        "colab_type": "code",
        "colab": {}
      },
      "source": [
        "#find the best C\n",
        "#use kernel linear \n",
        "clf = SVM_linear(X_train, X_val, y_train, y_val, X1, X2)\n",
        "clf = clf.fit(X_train_val, y_train_val)\n",
        "y_pred_test = clf.predict(X_test)\n",
        "acc = accuracy_score(y_test,y_pred_test)\n",
        "print(f\"Accuracy score: {acc:.2f} %\")\n",
        "plot_boundaries(X_train,y_train,clf, X1, X2,'C = 1')"
      ],
      "execution_count": 0,
      "outputs": []
    },
    {
      "cell_type": "code",
      "metadata": {
        "id": "MY-iYapf5Myb",
        "colab_type": "code",
        "colab": {}
      },
      "source": [
        "#find the best C\n",
        "#use RBF kernel\n",
        "clf = SVM_RBF(X_train, X_val, y_train, y_val,X1, X2)\n",
        "clf = clf.fit(X_train_val, y_train_val)\n",
        "y_pred_test = clf.predict(X_test)\n",
        "acc = accuracy_score(y_test,y_pred_test)\n",
        "print(f\"Accuracy score: {acc:.2f} %\")\n",
        "plot_boundaries(X_train,y_train,clf, X1, X2,'C = 100')"
      ],
      "execution_count": 0,
      "outputs": []
    },
    {
      "cell_type": "code",
      "metadata": {
        "id": "c08hE1jt5xP5",
        "colab_type": "code",
        "colab": {}
      },
      "source": [
        "#parameter grid to tune both gamma and c\n",
        "clf = SVM_RBF_gamma(X_train, X_val, y_train, y_val, X1, X2)\n",
        "clf = clf.fit(X_train_val, y_train_val)\n",
        "y_pred_test = clf.predict(X_test)\n",
        "acc = accuracy_score(y_test,y_pred_test)\n",
        "print(f\"Accuracy score: {acc:.2f} %\")\n",
        "plot_boundaries(X_train,y_train,clf, X1, X2,'C=100   \\u03B3=0,1')"
      ],
      "execution_count": 0,
      "outputs": []
    },
    {
      "cell_type": "code",
      "metadata": {
        "id": "h8w5aEd051fB",
        "colab_type": "code",
        "colab": {}
      },
      "source": [
        "#cross validation for RBF kernel\n",
        "clf = SVM_KFold(X_train_val, y_train_val, X1, X2)\n",
        "clf = clf.fit(X_train_val, y_train_val)\n",
        "y_pred_test = clf.predict(X_test)\n",
        "acc = accuracy_score(y_test,y_pred_test)\n",
        "print(f\"Accuracy score: {acc:.2f} %\")\n",
        "plot_boundaries(X_train,y_train,clf, X1, X2)"
      ],
      "execution_count": 0,
      "outputs": []
    }
  ]
}